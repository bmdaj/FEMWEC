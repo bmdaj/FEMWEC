{
 "cells": [
  {
   "cell_type": "code",
   "execution_count": 14,
   "metadata": {},
   "outputs": [],
   "source": [
    "import cv2\n",
    "import os\n",
    "\n",
    "image_folder = 'design_history'\n",
    "video_name = 'video.avi'\n",
    "\n",
    "images=[]\n",
    "for i in range(450):\n",
    "    images.append(\"design_it\"+str(i)+'.png')\n",
    "\n",
    "frame = cv2.imread(os.path.join(image_folder, images[0]))\n",
    "height, width, layers = frame.shape\n",
    "\n",
    "video = cv2.VideoWriter(video_name, 0, 20, (width,height))\n",
    "\n",
    "for image in images:\n",
    "    video.write(cv2.imread(os.path.join(image_folder, image)))\n",
    "\n",
    "cv2.destroyAllWindows()\n",
    "video.release()"
   ]
  },
  {
   "cell_type": "code",
   "execution_count": 15,
   "metadata": {},
   "outputs": [
    {
     "name": "stdout",
     "output_type": "stream",
     "text": [
      "['design_it0.png', 'design_it1.png', 'design_it2.png', 'design_it3.png', 'design_it4.png', 'design_it5.png', 'design_it6.png', 'design_it7.png', 'design_it8.png', 'design_it9.png', 'design_it10.png', 'design_it11.png', 'design_it12.png', 'design_it13.png', 'design_it14.png', 'design_it15.png', 'design_it16.png', 'design_it17.png', 'design_it18.png', 'design_it19.png', 'design_it20.png', 'design_it21.png', 'design_it22.png', 'design_it23.png', 'design_it24.png', 'design_it25.png', 'design_it26.png', 'design_it27.png', 'design_it28.png', 'design_it29.png', 'design_it30.png', 'design_it31.png', 'design_it32.png', 'design_it33.png', 'design_it34.png', 'design_it35.png', 'design_it36.png', 'design_it37.png', 'design_it38.png', 'design_it39.png', 'design_it40.png', 'design_it41.png', 'design_it42.png', 'design_it43.png', 'design_it44.png', 'design_it45.png', 'design_it46.png', 'design_it47.png', 'design_it48.png', 'design_it49.png', 'design_it50.png', 'design_it51.png', 'design_it52.png', 'design_it53.png', 'design_it54.png', 'design_it55.png', 'design_it56.png', 'design_it57.png', 'design_it58.png', 'design_it59.png', 'design_it60.png', 'design_it61.png', 'design_it62.png', 'design_it63.png', 'design_it64.png', 'design_it65.png', 'design_it66.png', 'design_it67.png', 'design_it68.png', 'design_it69.png', 'design_it70.png', 'design_it71.png', 'design_it72.png', 'design_it73.png', 'design_it74.png', 'design_it75.png', 'design_it76.png', 'design_it77.png', 'design_it78.png', 'design_it79.png', 'design_it80.png', 'design_it81.png', 'design_it82.png', 'design_it83.png', 'design_it84.png', 'design_it85.png', 'design_it86.png', 'design_it87.png', 'design_it88.png', 'design_it89.png', 'design_it90.png', 'design_it91.png', 'design_it92.png', 'design_it93.png', 'design_it94.png', 'design_it95.png', 'design_it96.png', 'design_it97.png', 'design_it98.png', 'design_it99.png', 'design_it100.png', 'design_it101.png', 'design_it102.png', 'design_it103.png', 'design_it104.png', 'design_it105.png', 'design_it106.png', 'design_it107.png', 'design_it108.png', 'design_it109.png', 'design_it110.png', 'design_it111.png', 'design_it112.png', 'design_it113.png', 'design_it114.png', 'design_it115.png', 'design_it116.png', 'design_it117.png', 'design_it118.png', 'design_it119.png', 'design_it120.png', 'design_it121.png', 'design_it122.png', 'design_it123.png', 'design_it124.png', 'design_it125.png', 'design_it126.png', 'design_it127.png', 'design_it128.png', 'design_it129.png', 'design_it130.png', 'design_it131.png', 'design_it132.png', 'design_it133.png', 'design_it134.png', 'design_it135.png', 'design_it136.png', 'design_it137.png', 'design_it138.png', 'design_it139.png', 'design_it140.png', 'design_it141.png', 'design_it142.png', 'design_it143.png', 'design_it144.png', 'design_it145.png', 'design_it146.png', 'design_it147.png', 'design_it148.png', 'design_it149.png', 'design_it150.png', 'design_it151.png', 'design_it152.png', 'design_it153.png', 'design_it154.png', 'design_it155.png', 'design_it156.png', 'design_it157.png', 'design_it158.png', 'design_it159.png', 'design_it160.png', 'design_it161.png', 'design_it162.png', 'design_it163.png', 'design_it164.png', 'design_it165.png', 'design_it166.png', 'design_it167.png', 'design_it168.png', 'design_it169.png', 'design_it170.png', 'design_it171.png', 'design_it172.png', 'design_it173.png', 'design_it174.png', 'design_it175.png', 'design_it176.png', 'design_it177.png', 'design_it178.png', 'design_it179.png', 'design_it180.png', 'design_it181.png', 'design_it182.png', 'design_it183.png', 'design_it184.png', 'design_it185.png', 'design_it186.png', 'design_it187.png', 'design_it188.png', 'design_it189.png', 'design_it190.png', 'design_it191.png', 'design_it192.png', 'design_it193.png', 'design_it194.png', 'design_it195.png', 'design_it196.png', 'design_it197.png', 'design_it198.png', 'design_it199.png', 'design_it200.png', 'design_it201.png', 'design_it202.png', 'design_it203.png', 'design_it204.png', 'design_it205.png', 'design_it206.png', 'design_it207.png', 'design_it208.png', 'design_it209.png', 'design_it210.png', 'design_it211.png', 'design_it212.png', 'design_it213.png', 'design_it214.png', 'design_it215.png', 'design_it216.png', 'design_it217.png', 'design_it218.png', 'design_it219.png', 'design_it220.png', 'design_it221.png', 'design_it222.png', 'design_it223.png', 'design_it224.png', 'design_it225.png', 'design_it226.png', 'design_it227.png', 'design_it228.png', 'design_it229.png', 'design_it230.png', 'design_it231.png', 'design_it232.png', 'design_it233.png', 'design_it234.png', 'design_it235.png', 'design_it236.png', 'design_it237.png', 'design_it238.png', 'design_it239.png', 'design_it240.png', 'design_it241.png', 'design_it242.png', 'design_it243.png', 'design_it244.png', 'design_it245.png', 'design_it246.png', 'design_it247.png', 'design_it248.png', 'design_it249.png', 'design_it250.png', 'design_it251.png', 'design_it252.png', 'design_it253.png', 'design_it254.png', 'design_it255.png', 'design_it256.png', 'design_it257.png', 'design_it258.png', 'design_it259.png', 'design_it260.png', 'design_it261.png', 'design_it262.png', 'design_it263.png', 'design_it264.png', 'design_it265.png', 'design_it266.png', 'design_it267.png', 'design_it268.png', 'design_it269.png', 'design_it270.png', 'design_it271.png', 'design_it272.png', 'design_it273.png', 'design_it274.png', 'design_it275.png', 'design_it276.png', 'design_it277.png', 'design_it278.png', 'design_it279.png', 'design_it280.png', 'design_it281.png', 'design_it282.png', 'design_it283.png', 'design_it284.png', 'design_it285.png', 'design_it286.png', 'design_it287.png', 'design_it288.png', 'design_it289.png', 'design_it290.png', 'design_it291.png', 'design_it292.png', 'design_it293.png', 'design_it294.png', 'design_it295.png', 'design_it296.png', 'design_it297.png', 'design_it298.png', 'design_it299.png', 'design_it300.png', 'design_it301.png', 'design_it302.png', 'design_it303.png', 'design_it304.png', 'design_it305.png', 'design_it306.png', 'design_it307.png', 'design_it308.png', 'design_it309.png', 'design_it310.png', 'design_it311.png', 'design_it312.png', 'design_it313.png', 'design_it314.png', 'design_it315.png', 'design_it316.png', 'design_it317.png', 'design_it318.png', 'design_it319.png', 'design_it320.png', 'design_it321.png', 'design_it322.png', 'design_it323.png', 'design_it324.png', 'design_it325.png', 'design_it326.png', 'design_it327.png', 'design_it328.png', 'design_it329.png', 'design_it330.png', 'design_it331.png', 'design_it332.png', 'design_it333.png', 'design_it334.png', 'design_it335.png', 'design_it336.png', 'design_it337.png', 'design_it338.png', 'design_it339.png', 'design_it340.png', 'design_it341.png', 'design_it342.png', 'design_it343.png', 'design_it344.png', 'design_it345.png', 'design_it346.png', 'design_it347.png', 'design_it348.png', 'design_it349.png', 'design_it350.png', 'design_it351.png', 'design_it352.png', 'design_it353.png', 'design_it354.png', 'design_it355.png', 'design_it356.png', 'design_it357.png', 'design_it358.png', 'design_it359.png', 'design_it360.png', 'design_it361.png', 'design_it362.png', 'design_it363.png', 'design_it364.png', 'design_it365.png', 'design_it366.png', 'design_it367.png', 'design_it368.png', 'design_it369.png', 'design_it370.png', 'design_it371.png', 'design_it372.png', 'design_it373.png', 'design_it374.png', 'design_it375.png', 'design_it376.png', 'design_it377.png', 'design_it378.png', 'design_it379.png', 'design_it380.png', 'design_it381.png', 'design_it382.png', 'design_it383.png', 'design_it384.png', 'design_it385.png', 'design_it386.png', 'design_it387.png', 'design_it388.png', 'design_it389.png', 'design_it390.png', 'design_it391.png', 'design_it392.png', 'design_it393.png', 'design_it394.png', 'design_it395.png', 'design_it396.png', 'design_it397.png', 'design_it398.png', 'design_it399.png', 'design_it400.png', 'design_it401.png', 'design_it402.png', 'design_it403.png', 'design_it404.png', 'design_it405.png', 'design_it406.png', 'design_it407.png', 'design_it408.png', 'design_it409.png', 'design_it410.png', 'design_it411.png', 'design_it412.png', 'design_it413.png', 'design_it414.png', 'design_it415.png', 'design_it416.png', 'design_it417.png', 'design_it418.png', 'design_it419.png', 'design_it420.png', 'design_it421.png', 'design_it422.png', 'design_it423.png', 'design_it424.png', 'design_it425.png', 'design_it426.png', 'design_it427.png', 'design_it428.png', 'design_it429.png', 'design_it430.png', 'design_it431.png', 'design_it432.png', 'design_it433.png', 'design_it434.png', 'design_it435.png', 'design_it436.png', 'design_it437.png', 'design_it438.png', 'design_it439.png', 'design_it440.png', 'design_it441.png', 'design_it442.png', 'design_it443.png', 'design_it444.png', 'design_it445.png', 'design_it446.png', 'design_it447.png', 'design_it448.png', 'design_it449.png']\n"
     ]
    }
   ],
   "source": [
    "print(images)"
   ]
  }
 ],
 "metadata": {
  "kernelspec": {
   "display_name": "Python 3.10.8 ('mp')",
   "language": "python",
   "name": "python3"
  },
  "language_info": {
   "codemirror_mode": {
    "name": "ipython",
    "version": 3
   },
   "file_extension": ".py",
   "mimetype": "text/x-python",
   "name": "python",
   "nbconvert_exporter": "python",
   "pygments_lexer": "ipython3",
   "version": "3.10.9"
  },
  "orig_nbformat": 4,
  "vscode": {
   "interpreter": {
    "hash": "36edd5d34ddf1de469682f0ad5e4889f13caec8690c0944dc55a3d86f90f415d"
   }
  }
 },
 "nbformat": 4,
 "nbformat_minor": 2
}
